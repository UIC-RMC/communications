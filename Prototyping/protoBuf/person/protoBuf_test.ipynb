{
 "cells": [
  {
   "cell_type": "code",
   "execution_count": 18,
   "id": "2c1df383",
   "metadata": {},
   "outputs": [
    {
     "name": "stdout",
     "output_type": "stream",
     "text": [
      "C:\\Users\\Alex\\Desktop\\Programming\\RMC\\communications\\Prototyping\\protoBuf\n"
     ]
    }
   ],
   "source": [
    "import os\n",
    "print(os.getcwd())\n",
    "\n",
    "import person_pb2\n",
    "import person_info_pb2"
   ]
  },
  {
   "cell_type": "code",
   "execution_count": 19,
   "id": "b777c27f",
   "metadata": {},
   "outputs": [],
   "source": [
    "# define friend for person of interest\n",
    "friend_info = person_info_pb2.PersonInfo()\n",
    "friend_info.age = 40\n",
    "friend_info.sex = person_info_pb2.Sex.M\n",
    "friend_info.height = 165\n",
    "friend_person = person_pb2.Person()\n",
    "friend_person.info.CopyFrom(friend_info)\n",
    "friend_person.friends.extend([])  # no friends :-(\n",
    "\n",
    "# define friendship characteristics\n",
    "friendship = person_pb2.Friend()\n",
    "friendship.friendship_duration = 365.1\n",
    "friendship.shared_hobbies.extend([\"books\", \"daydreaming\", \"unicorns\"])\n",
    "friendship.person.CopyFrom(friend_person)\n",
    "\n",
    "# assign the friend to the friend of interest\n",
    "person_info = person_info_pb2.PersonInfo()\n",
    "person_info.age = 30\n",
    "person_info.sex = person_info_pb2.Sex.M\n",
    "person_info.height = 184\n",
    "person = person_pb2.Person()\n",
    "person.info.CopyFrom(person_info)\n",
    "person.friends.extend([friendship])  # person with a single friend"
   ]
  },
  {
   "cell_type": "code",
   "execution_count": 20,
   "id": "931a4093",
   "metadata": {},
   "outputs": [],
   "source": [
    "import os\n",
    "out_dir = os.getcwd()\n",
    "\n",
    "with open(os.path.join(out_dir, \"person.pb\"), \"wb\") as f:\n",
    "    # binary output\n",
    "    f.write(person.SerializeToString())\n",
    "    \n",
    "with open(os.path.join(out_dir, \"person.protobuf\"), \"w\") as f:\n",
    "    # human-readable output for debugging\n",
    "    f.write(str(person))"
   ]
  },
  {
   "cell_type": "code",
   "execution_count": 29,
   "id": "6b680c23",
   "metadata": {},
   "outputs": [
    {
     "ename": "NameError",
     "evalue": "name 'ParseFromString' is not defined",
     "output_type": "error",
     "traceback": [
      "\u001b[1;31m---------------------------------------------------------------------------\u001b[0m",
      "\u001b[1;31mNameError\u001b[0m                                 Traceback (most recent call last)",
      "\u001b[1;32m~\\AppData\\Local\\Temp/ipykernel_10524/1216609589.py\u001b[0m in \u001b[0;36m<module>\u001b[1;34m\u001b[0m\n\u001b[0;32m      1\u001b[0m \u001b[0mf\u001b[0m \u001b[1;33m=\u001b[0m \u001b[0mopen\u001b[0m\u001b[1;33m(\u001b[0m\u001b[1;34m\"person.pb\"\u001b[0m\u001b[1;33m,\u001b[0m \u001b[1;34m\"rb\"\u001b[0m\u001b[1;33m)\u001b[0m\u001b[1;33m\u001b[0m\u001b[1;33m\u001b[0m\u001b[0m\n\u001b[1;32m----> 2\u001b[1;33m \u001b[0ma\u001b[0m \u001b[1;33m=\u001b[0m \u001b[0mParseFromString\u001b[0m\u001b[1;33m(\u001b[0m\u001b[0mf\u001b[0m\u001b[1;33m.\u001b[0m\u001b[0mread\u001b[0m\u001b[1;33m(\u001b[0m\u001b[1;33m)\u001b[0m\u001b[1;33m)\u001b[0m\u001b[1;33m\u001b[0m\u001b[1;33m\u001b[0m\u001b[0m\n\u001b[0m\u001b[0;32m      3\u001b[0m \u001b[0mprint\u001b[0m\u001b[1;33m(\u001b[0m\u001b[0ma\u001b[0m\u001b[1;33m)\u001b[0m\u001b[1;33m\u001b[0m\u001b[1;33m\u001b[0m\u001b[0m\n\u001b[0;32m      4\u001b[0m \u001b[0mf\u001b[0m\u001b[1;33m.\u001b[0m\u001b[0mclose\u001b[0m\u001b[1;33m(\u001b[0m\u001b[1;33m)\u001b[0m\u001b[1;33m\u001b[0m\u001b[1;33m\u001b[0m\u001b[0m\n\u001b[0;32m      5\u001b[0m \u001b[1;33m\u001b[0m\u001b[0m\n",
      "\u001b[1;31mNameError\u001b[0m: name 'ParseFromString' is not defined"
     ]
    }
   ],
   "source": [
    "f = open(\"person.pb\", \"rb\")\n",
    "\n",
    "personTest = \n",
    "a = ParseFromString(f.read())\n",
    "print(a)\n",
    "f.close()\n",
    "\n",
    "#with open('out.bin', 'rb') as f:\n",
    "    #read_metric = metric_pb2.Metric()\n",
    "    #read_metric.ParseFromString(f.read())\n",
    "    # do something with read_metric"
   ]
  },
  {
   "cell_type": "code",
   "execution_count": null,
   "id": "b8739d35",
   "metadata": {},
   "outputs": [],
   "source": []
  }
 ],
 "metadata": {
  "kernelspec": {
   "display_name": "Python 3 (ipykernel)",
   "language": "python",
   "name": "python3"
  },
  "language_info": {
   "codemirror_mode": {
    "name": "ipython",
    "version": 3
   },
   "file_extension": ".py",
   "mimetype": "text/x-python",
   "name": "python",
   "nbconvert_exporter": "python",
   "pygments_lexer": "ipython3",
   "version": "3.9.7"
  }
 },
 "nbformat": 4,
 "nbformat_minor": 5
}
