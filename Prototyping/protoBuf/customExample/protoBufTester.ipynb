{
 "cells": [
  {
   "cell_type": "code",
   "execution_count": 84,
   "id": "d45637ec",
   "metadata": {},
   "outputs": [],
   "source": [
    "import test_pb2 as pb\n",
    "import sys"
   ]
  },
  {
   "cell_type": "code",
   "execution_count": 90,
   "id": "142f5937",
   "metadata": {},
   "outputs": [],
   "source": [
    "#we defined a specific message in our protoBuffer called \"data\", now we populate our message with data\n",
    "pbSend = pb.data()\n",
    "pbSend.id = 123455\n",
    "#pbSend.text = \"test\"\n",
    "#pbSend.decimal = 2.34"
   ]
  },
  {
   "cell_type": "code",
   "execution_count": 91,
   "id": "52c1d395",
   "metadata": {},
   "outputs": [
    {
     "name": "stdout",
     "output_type": "stream",
     "text": [
      "True\n"
     ]
    }
   ],
   "source": [
    "#returns whether all fields have been initialized\n",
    "print(pbSend.IsInitialized())"
   ]
  },
  {
   "cell_type": "code",
   "execution_count": 96,
   "id": "0f5e0f2b",
   "metadata": {},
   "outputs": [
    {
     "name": "stdout",
     "output_type": "stream",
     "text": [
      "b'\\x08\\xbf\\xc4\\x07'\n",
      "<class 'bytes'>\n"
     ]
    }
   ],
   "source": [
    "test = pbSend.SerializeToString()\n",
    "print(test)\n",
    "print(type(test))"
   ]
  },
  {
   "cell_type": "code",
   "execution_count": 97,
   "id": "3cc3f473",
   "metadata": {},
   "outputs": [],
   "source": [
    "#actually write the file\n",
    "f = open(\"binary.txt\", \"wb\")\n",
    "f.write(pbSend.SerializeToString())\n",
    "f.close()"
   ]
  },
  {
   "cell_type": "code",
   "execution_count": 98,
   "id": "f187b8a8",
   "metadata": {},
   "outputs": [],
   "source": [
    "#create the recieving object\n",
    "pbRecieve = pb.data()\n",
    "\n",
    "#read the file\n",
    "f = open(\"binary.txt\", \"rb\")\n",
    "length = pbRecieve.ParseFromString(f.read())\n",
    "f.close()"
   ]
  },
  {
   "cell_type": "code",
   "execution_count": 99,
   "id": "35c3ae67",
   "metadata": {},
   "outputs": [
    {
     "name": "stdout",
     "output_type": "stream",
     "text": [
      "123455\n"
     ]
    }
   ],
   "source": [
    "#access each of the members!\n",
    "print(pbRecieve.id)\n",
    "#print(pbRecieve.text)\n",
    "#print(pbRecieve.decimal)"
   ]
  },
  {
   "cell_type": "code",
   "execution_count": 100,
   "id": "fa300c16",
   "metadata": {},
   "outputs": [
    {
     "name": "stdout",
     "output_type": "stream",
     "text": [
      "4 bytes\n"
     ]
    }
   ],
   "source": [
    "#message length:\n",
    "print(str(length) + ' bytes')"
   ]
  }
 ],
 "metadata": {
  "kernelspec": {
   "display_name": "Python 3 (ipykernel)",
   "language": "python",
   "name": "python3"
  },
  "language_info": {
   "codemirror_mode": {
    "name": "ipython",
    "version": 3
   },
   "file_extension": ".py",
   "mimetype": "text/x-python",
   "name": "python",
   "nbconvert_exporter": "python",
   "pygments_lexer": "ipython3",
   "version": "3.9.7"
  }
 },
 "nbformat": 4,
 "nbformat_minor": 5
}
