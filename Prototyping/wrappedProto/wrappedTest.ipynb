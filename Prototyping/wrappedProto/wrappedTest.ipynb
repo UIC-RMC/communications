{
 "cells": [
  {
   "cell_type": "code",
   "execution_count": 1,
   "id": "89167176",
   "metadata": {},
   "outputs": [],
   "source": [
    "import wrappedProto_pb2 as pb\n",
    "import sys"
   ]
  },
  {
   "cell_type": "code",
   "execution_count": 2,
   "id": "d097f64f",
   "metadata": {},
   "outputs": [],
   "source": [
    "#we defined a specific message in our protoBuffer file called \"Person\", now we populate our message with data\n",
    "pbPerson = pb.Person()\n",
    "pbPerson.id = 123455\n",
    "pbPerson.name = \"jon\"\n",
    "pbPerson.email = \"jonP@gmail.com\""
   ]
  },
  {
   "cell_type": "code",
   "execution_count": 3,
   "id": "13ff7cb8",
   "metadata": {},
   "outputs": [],
   "source": [
    "#we defined a specific message in our protoBuffer file called \"Address\", now we populate our message with data\n",
    "pbAddress = pb.Address()\n",
    "pbAddress.address = \"5555 UIC Chicago\""
   ]
  },
  {
   "cell_type": "code",
   "execution_count": 4,
   "id": "7c7458e1",
   "metadata": {},
   "outputs": [],
   "source": [
    "#now this is a new way of doing things, we put specific values right into the wrapped message\n",
    "\n",
    "#we defined a specific message in our protoBuffer file called \"TopLevelMessage\", now we populate our message with data\n",
    "#https://github.com/protocolbuffers/protobuf/issues/5012\n",
    "#https://stackoverflow.com/questions/40450556/how-to-know-which-protobuf-message-the-byte-array-is/50291651#50291651\n",
    "wrappedMsg = pb.TopLevelMessage()\n",
    "\n",
    "#wrappedMsg.person.id = 123455\n",
    "#wrappedMsg.person.name = \"jon\"\n",
    "wrappedMsg.person.email = \"jonP@gmail.com\"\n",
    "\n",
    "#the last message type that is updated is the one that is actually sent!\n",
    "wrappedMsg.address.address = \"5555 UIC Chicago\""
   ]
  },
  {
   "cell_type": "code",
   "execution_count": 5,
   "id": "bd3ebe9c",
   "metadata": {},
   "outputs": [
    {
     "name": "stdout",
     "output_type": "stream",
     "text": [
      "b'\\x12\\x12\\n\\x105555 UIC Chicago'\n",
      "<class 'bytes'>\n"
     ]
    }
   ],
   "source": [
    "test = wrappedMsg.SerializeToString()\n",
    "print(test)\n",
    "print(type(test))"
   ]
  },
  {
   "cell_type": "code",
   "execution_count": 6,
   "id": "f6b0ea1f",
   "metadata": {},
   "outputs": [],
   "source": [
    "#actually write the file\n",
    "f = open(\"binary.txt\", \"wb\")\n",
    "f.write(wrappedMsg.SerializeToString())\n",
    "f.close()"
   ]
  },
  {
   "cell_type": "code",
   "execution_count": 7,
   "id": "80fbb7ac",
   "metadata": {},
   "outputs": [],
   "source": [
    "#create the recieving object\n",
    "wrappedDecoded = pb.TopLevelMessage()"
   ]
  },
  {
   "cell_type": "code",
   "execution_count": 8,
   "id": "994fd0fa",
   "metadata": {},
   "outputs": [],
   "source": [
    "#read the file\n",
    "f = open(\"binary.txt\", \"rb\")\n",
    "length = wrappedDecoded.ParseFromString(f.read())\n",
    "f.close()"
   ]
  },
  {
   "cell_type": "code",
   "execution_count": 9,
   "id": "d380443a",
   "metadata": {},
   "outputs": [
    {
     "name": "stdout",
     "output_type": "stream",
     "text": [
      "address\n",
      "5555 UIC Chicago\n"
     ]
    }
   ],
   "source": [
    "#access each of the members!\n",
    "if (wrappedDecoded.HasField(\"address\")):\n",
    "    print('address')\n",
    "    print(wrappedDecoded.address.address)\n",
    "if (wrappedDecoded.HasField(\"person\")):\n",
    "    print('person')\n",
    "    print(wrappedDecoded.person.email)\n",
    "    print(wrappedDecoded.person.name)\n",
    "    print(wrappedDecoded.person.id)"
   ]
  },
  {
   "cell_type": "code",
   "execution_count": null,
   "id": "6447168d",
   "metadata": {},
   "outputs": [],
   "source": []
  }
 ],
 "metadata": {
  "kernelspec": {
   "display_name": "Python 3 (ipykernel)",
   "language": "python",
   "name": "python3"
  },
  "language_info": {
   "codemirror_mode": {
    "name": "ipython",
    "version": 3
   },
   "file_extension": ".py",
   "mimetype": "text/x-python",
   "name": "python",
   "nbconvert_exporter": "python",
   "pygments_lexer": "ipython3",
   "version": "3.9.7"
  }
 },
 "nbformat": 4,
 "nbformat_minor": 5
}
